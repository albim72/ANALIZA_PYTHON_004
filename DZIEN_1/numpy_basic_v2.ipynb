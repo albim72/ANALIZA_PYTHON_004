{
 "cells":[
  {
   "cell_type":"code",
   "source":[
    "import numpy as np"
   ],
   "execution_count":1,
   "outputs":[
    
   ],
   "metadata":{
    "datalore":{
     "node_id":"0WSBtKPPU7PaWxpPmzh3VW",
     "type":"CODE",
     "hide_input_from_viewers":true,
     "hide_output_from_viewers":true
    }
   }
  },
  {
   "cell_type":"code",
   "source":[
    "a = 56\n",
    "b = 88\n",
    "c = 99\n",
    "tb = [a,b,c]\n",
    "\n",
    "for n in tb:\n",
    "    print(f\"________[ - {n} - ]________\")"
   ],
   "execution_count":2,
   "outputs":[
    {
     "name":"stdout",
     "text":[
      "________[ - 56 - ]________\n",
      "________[ - 88 - ]________\n",
      "________[ - 99 - ]________\n"
     ],
     "output_type":"stream"
    }
   ],
   "metadata":{
    "datalore":{
     "node_id":"uFsante01uWVFnHAvn6vwT",
     "type":"CODE",
     "hide_input_from_viewers":true,
     "hide_output_from_viewers":true
    }
   }
  },
  {
   "cell_type":"markdown",
   "source":[
    "<h1>Analiza pakietu NUMPY<\/h1>\n",
    "<p style=\"font-size:14pt;color:crimson;\">ważne funkcjonalności pakietu<\/p>"
   ],
   "attachments":{
    
   },
   "metadata":{
    "datalore":{
     "node_id":"r1aoNaBzf7mAWDAcgPcSuq",
     "type":"MD",
     "hide_input_from_viewers":true,
     "hide_output_from_viewers":true
    }
   }
  },
  {
   "cell_type":"code",
   "source":[
    "np.zeros(8)"
   ],
   "execution_count":3,
   "outputs":[
    {
     "data":{
      "text\/html":[
       "<pre>array([0., 0., 0., 0., 0., 0., 0., 0.])<\/pre>"
      ]
     },
     "metadata":{
      
     },
     "output_type":"display_data"
    }
   ],
   "metadata":{
    "datalore":{
     "node_id":"SHUlHmg7BVqtti1yqPtVv3",
     "type":"CODE",
     "hide_input_from_viewers":true,
     "hide_output_from_viewers":true
    }
   }
  },
  {
   "cell_type":"code",
   "source":[
    "np.ones(3)"
   ],
   "execution_count":4,
   "outputs":[
    {
     "data":{
      "text\/html":[
       "<pre>array([1., 1., 1.])<\/pre>"
      ]
     },
     "metadata":{
      
     },
     "output_type":"display_data"
    }
   ],
   "metadata":{
    "datalore":{
     "node_id":"CzmCNkMWNacQsYXSgRKErz",
     "type":"CODE",
     "hide_input_from_viewers":true,
     "hide_output_from_viewers":true
    }
   }
  },
  {
   "cell_type":"code",
   "source":[
    "np.empty(8)"
   ],
   "execution_count":5,
   "outputs":[
    {
     "data":{
      "text\/html":[
       "<pre>array([0., 0., 0., 0., 0., 0., 0., 0.])<\/pre>"
      ]
     },
     "metadata":{
      
     },
     "output_type":"display_data"
    }
   ],
   "metadata":{
    "datalore":{
     "node_id":"pFY5WntATHqH7sgCcEaXXB",
     "type":"CODE",
     "hide_input_from_viewers":true,
     "hide_output_from_viewers":true
    }
   }
  },
  {
   "cell_type":"code",
   "source":[
    "v = np.arange(1,89,3)\n",
    "print(v)"
   ],
   "execution_count":7,
   "outputs":[
    {
     "name":"stdout",
     "text":[
      "[ 1  4  7 10 13 16 19 22 25 28 31 34 37 40 43 46 49 52 55 58 61 64 67 70\n",
      " 73 76 79 82 85 88]\n"
     ],
     "output_type":"stream"
    }
   ],
   "metadata":{
    "datalore":{
     "node_id":"a6Tx57FOLjhBx5rXt81XCa",
     "type":"CODE",
     "hide_input_from_viewers":true,
     "hide_output_from_viewers":true
    }
   }
  },
  {
   "cell_type":"code",
   "source":[
    "k = np.linspace(0,10,num=5)\n",
    "k"
   ],
   "execution_count":8,
   "outputs":[
    {
     "data":{
      "text\/html":[
       "<pre>array([ 0. ,  2.5,  5. ,  7.5, 10. ])<\/pre>"
      ]
     },
     "metadata":{
      
     },
     "output_type":"display_data"
    }
   ],
   "metadata":{
    "datalore":{
     "node_id":"RBVtA7OYhL61v1elKD6qhS",
     "type":"CODE",
     "hide_input_from_viewers":true,
     "hide_output_from_viewers":true
    }
   }
  },
  {
   "cell_type":"code",
   "source":[
    "lt = [6.6,5e+45,5.,6,True,120,0,0.09]\n",
    "nplist = np.array(lt)\n",
    "print(nplist)"
   ],
   "execution_count":10,
   "outputs":[
    {
     "name":"stdout",
     "text":[
      "[6.6e+00 5.0e+45 5.0e+00 6.0e+00 1.0e+00 1.2e+02 0.0e+00 9.0e-02]\n"
     ],
     "output_type":"stream"
    }
   ],
   "metadata":{
    "datalore":{
     "node_id":"pJpEG4tKNEGbVtHpLCxvWM",
     "type":"CODE",
     "hide_input_from_viewers":true,
     "hide_output_from_viewers":true
    }
   }
  },
  {
   "cell_type":"code",
   "source":[
    "kr = {9,3,56,7}\n",
    "knp = np.array(kr)\n",
    "print(knp)\n",
    "print(type(knp))"
   ],
   "execution_count":11,
   "outputs":[
    {
     "name":"stdout",
     "text":[
      "{56, 9, 3, 7}\n",
      "<class 'numpy.ndarray'>\n"
     ],
     "output_type":"stream"
    }
   ],
   "metadata":{
    "datalore":{
     "node_id":"s5xmZngvPyUoj7R1ddvCSh",
     "type":"CODE",
     "hide_input_from_viewers":true,
     "hide_output_from_viewers":true
    }
   }
  },
  {
   "cell_type":"code",
   "source":[
    "nb = [908,25,3,6,8,9,63,7.77,35,67,8,9,12,34,9,0,53,56,4667]\n",
    "nnp = np.array(nb)\n",
    "nnp"
   ],
   "execution_count":12,
   "outputs":[
    {
     "data":{
      "text\/html":[
       "<pre>array([9.080e+02, 2.500e+01, 3.000e+00, 6.000e+00, 8.000e+00, 9.000e+00,\n",
       "       6.300e+01, 7.770e+00, 3.500e+01, 6.700e+01, 8.000e+00, 9.000e+00,\n",
       "       1.200e+01, 3.400e+01, 9.000e+00, 0.000e+00, 5.300e+01, 5.600e+01,\n",
       "       4.667e+03])<\/pre>"
      ]
     },
     "metadata":{
      
     },
     "output_type":"display_data"
    }
   ],
   "metadata":{
    "datalore":{
     "node_id":"SujmbrPL7kQJWZyC78vD3P",
     "type":"CODE",
     "hide_input_from_viewers":true,
     "hide_output_from_viewers":true
    }
   }
  },
  {
   "cell_type":"code",
   "source":[
    "nnp.sort()\n",
    "nnp"
   ],
   "execution_count":13,
   "outputs":[
    {
     "data":{
      "text\/html":[
       "<pre>array([0.000e+00, 3.000e+00, 6.000e+00, 7.770e+00, 8.000e+00, 8.000e+00,\n",
       "       9.000e+00, 9.000e+00, 9.000e+00, 1.200e+01, 2.500e+01, 3.400e+01,\n",
       "       3.500e+01, 5.300e+01, 5.600e+01, 6.300e+01, 6.700e+01, 9.080e+02,\n",
       "       4.667e+03])<\/pre>"
      ]
     },
     "metadata":{
      
     },
     "output_type":"display_data"
    }
   ],
   "metadata":{
    "datalore":{
     "node_id":"AEMjUi2hR1QsGyqMCpS0k3",
     "type":"CODE",
     "hide_input_from_viewers":true,
     "hide_output_from_viewers":true
    }
   }
  },
  {
   "cell_type":"code",
   "source":[
    "la = [8,13,4]\n",
    "lb = [123,6,90]\n",
    "\n",
    "fullab = la+lb\n",
    "fullab"
   ],
   "execution_count":14,
   "outputs":[
    {
     "data":{
      "text\/plain":[
       "[8, 13, 4, 123, 6, 90]"
      ]
     },
     "metadata":{
      
     },
     "output_type":"display_data"
    }
   ],
   "metadata":{
    "datalore":{
     "node_id":"3qkhNesZLciiJ7rVegv8qk",
     "type":"CODE",
     "hide_input_from_viewers":true,
     "hide_output_from_viewers":true
    }
   }
  },
  {
   "cell_type":"code",
   "source":[
    "na = np.array([1,5,89,3])\n",
    "nb = np.array([8,9,14,56])\n",
    "nc = np.array([83,455,6,122])\n",
    "\n",
    "big = np.concatenate((na,nb,nc))\n",
    "print(big)"
   ],
   "execution_count":17,
   "outputs":[
    {
     "name":"stdout",
     "text":[
      "[  1   5  89   3   8   9  14  56  83 455   6 122]\n"
     ],
     "output_type":"stream"
    }
   ],
   "metadata":{
    "datalore":{
     "node_id":"qDikVFHA3gsHTxEm1us3YF",
     "type":"CODE",
     "hide_input_from_viewers":true,
     "hide_output_from_viewers":true
    }
   }
  },
  {
   "cell_type":"code",
   "source":[
    "big.sort()\n",
    "print(big)"
   ],
   "execution_count":18,
   "outputs":[
    {
     "name":"stdout",
     "text":[
      "[  1   3   5   6   8   9  14  56  83  89 122 455]\n"
     ],
     "output_type":"stream"
    }
   ],
   "metadata":{
    "datalore":{
     "node_id":"7ubyuVrabNJws9csC1Q5Er",
     "type":"CODE",
     "hide_input_from_viewers":true,
     "hide_output_from_viewers":true
    }
   }
  },
  {
   "cell_type":"markdown",
   "source":[
    "Macierze w NUMPY"
   ],
   "attachments":{
    
   },
   "metadata":{
    "datalore":{
     "node_id":"BjFBGnP7YVxQs3teJNlKBp",
     "type":"MD",
     "hide_input_from_viewers":true,
     "hide_output_from_viewers":true
    }
   }
  },
  {
   "cell_type":"code",
   "source":[
    "zx = [[5,7],[9,11]]\n",
    "print(zx)\n",
    "print(zx[0])\n",
    "print(zx[0][0])"
   ],
   "execution_count":22,
   "outputs":[
    {
     "name":"stdout",
     "text":[
      "[[5, 7], [9, 11]]\n",
      "[5, 7]\n",
      "5\n"
     ],
     "output_type":"stream"
    }
   ],
   "metadata":{
    "datalore":{
     "node_id":"ui0FZmKr0I3WwIvoO7LDlJ",
     "type":"CODE",
     "hide_input_from_viewers":true,
     "hide_output_from_viewers":true
    }
   }
  },
  {
   "cell_type":"code",
   "source":[
    "x = np.array([[67,4],[9,12]])\n",
    "print(x)\n",
    "print(x[0,0])"
   ],
   "execution_count":24,
   "outputs":[
    {
     "name":"stdout",
     "text":[
      "[[67  4]\n",
      " [ 9 12]]\n",
      "67\n"
     ],
     "output_type":"stream"
    }
   ],
   "metadata":{
    "datalore":{
     "node_id":"bEEnmZmE7RrUHvs6J2X9hQ",
     "type":"CODE",
     "hide_input_from_viewers":true,
     "hide_output_from_viewers":true
    }
   }
  },
  {
   "cell_type":"code",
   "source":[
    "y = np.array([[88,14],[10,20]])\n",
    "p = np.concatenate((x,y),axis=0)\n",
    "p"
   ],
   "execution_count":27,
   "outputs":[
    {
     "data":{
      "text\/html":[
       "<pre>array([[67,  4],\n",
       "       [ 9, 12],\n",
       "       [88, 14],\n",
       "       [10, 20]])<\/pre>"
      ]
     },
     "metadata":{
      
     },
     "output_type":"display_data"
    }
   ],
   "metadata":{
    "datalore":{
     "node_id":"qIdA1NkmY4YRPmUYZJi9mr",
     "type":"CODE",
     "hide_input_from_viewers":true,
     "hide_output_from_viewers":true
    }
   }
  }
 ],
 "metadata":{
  "kernelspec":{
   "display_name":"Python",
   "language":"python",
   "name":"python"
  },
  "datalore":{
   "computation_mode":"JUPYTER",
   "package_manager":"pip",
   "base_environment":"default",
   "packages":[
    
   ],
   "report_row_ids":[
    
   ],
   "version":2
  }
 },
 "nbformat":4,
 "nbformat_minor":4
}